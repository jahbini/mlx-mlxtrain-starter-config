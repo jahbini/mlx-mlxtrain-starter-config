!python scripts/00_setup_data_dir.py --config configs/default.yaml
!python scripts/01_fetch_hf_dataset.py --config configs/default.yaml
!python scripts/02_prepare_data.py --config configs/default.yaml --override data.max_words=80
!python scripts/03_train.py --config configs/default.yaml --override trainer.epochs=1 trainer.batch_size=2
!python scripts/04_eval.py --config configs/default.yaml
